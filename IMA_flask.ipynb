{
  "nbformat": 4,
  "nbformat_minor": 0,
  "metadata": {
    "colab": {
      "name": "Untitled3.ipynb",
      "provenance": [],
      "collapsed_sections": []
    },
    "kernelspec": {
      "name": "python3",
      "display_name": "Python 3"
    },
    "language_info": {
      "name": "python"
    }
  },
  "cells": [
    {
      "cell_type": "code",
      "execution_count": 1,
      "metadata": {
        "colab": {
          "base_uri": "https://localhost:8080/"
        },
        "id": "m8kz1oI8hD_u",
        "outputId": "2e81b65f-2ede-45af-9883-152f9c339a60"
      },
      "outputs": [
        {
          "output_type": "stream",
          "name": "stdout",
          "text": [
            "Collecting flask-ngrok\n",
            "  Downloading flask_ngrok-0.0.25-py3-none-any.whl (3.1 kB)\n",
            "Requirement already satisfied: requests in /usr/local/lib/python3.7/dist-packages (from flask-ngrok) (2.23.0)\n",
            "Requirement already satisfied: Flask>=0.8 in /usr/local/lib/python3.7/dist-packages (from flask-ngrok) (1.1.4)\n",
            "Requirement already satisfied: click<8.0,>=5.1 in /usr/local/lib/python3.7/dist-packages (from Flask>=0.8->flask-ngrok) (7.1.2)\n",
            "Requirement already satisfied: itsdangerous<2.0,>=0.24 in /usr/local/lib/python3.7/dist-packages (from Flask>=0.8->flask-ngrok) (1.1.0)\n",
            "Requirement already satisfied: Jinja2<3.0,>=2.10.1 in /usr/local/lib/python3.7/dist-packages (from Flask>=0.8->flask-ngrok) (2.11.3)\n",
            "Requirement already satisfied: Werkzeug<2.0,>=0.15 in /usr/local/lib/python3.7/dist-packages (from Flask>=0.8->flask-ngrok) (1.0.1)\n",
            "Requirement already satisfied: MarkupSafe>=0.23 in /usr/local/lib/python3.7/dist-packages (from Jinja2<3.0,>=2.10.1->Flask>=0.8->flask-ngrok) (2.0.1)\n",
            "Requirement already satisfied: certifi>=2017.4.17 in /usr/local/lib/python3.7/dist-packages (from requests->flask-ngrok) (2021.10.8)\n",
            "Requirement already satisfied: urllib3!=1.25.0,!=1.25.1,<1.26,>=1.21.1 in /usr/local/lib/python3.7/dist-packages (from requests->flask-ngrok) (1.24.3)\n",
            "Requirement already satisfied: chardet<4,>=3.0.2 in /usr/local/lib/python3.7/dist-packages (from requests->flask-ngrok) (3.0.4)\n",
            "Requirement already satisfied: idna<3,>=2.5 in /usr/local/lib/python3.7/dist-packages (from requests->flask-ngrok) (2.10)\n",
            "Installing collected packages: flask-ngrok\n",
            "Successfully installed flask-ngrok-0.0.25\n",
            "Collecting pyngrok\n",
            "  Downloading pyngrok-5.1.0.tar.gz (745 kB)\n",
            "\u001b[K     |████████████████████████████████| 745 kB 3.2 MB/s \n",
            "\u001b[?25hRequirement already satisfied: PyYAML in /usr/local/lib/python3.7/dist-packages (from pyngrok) (3.13)\n",
            "Building wheels for collected packages: pyngrok\n",
            "  Building wheel for pyngrok (setup.py) ... \u001b[?25l\u001b[?25hdone\n",
            "  Created wheel for pyngrok: filename=pyngrok-5.1.0-py3-none-any.whl size=19007 sha256=f588902db9da11b433348c444d0954ccb189f2eeafebe3382765c046c6b6206f\n",
            "  Stored in directory: /root/.cache/pip/wheels/bf/e6/af/ccf6598ecefecd44104069371795cb9b3afbcd16987f6ccfb3\n",
            "Successfully built pyngrok\n",
            "Installing collected packages: pyngrok\n",
            "Successfully installed pyngrok-5.1.0\n",
            "Collecting flask-wtf\n",
            "  Downloading Flask_WTF-1.0.0-py3-none-any.whl (12 kB)\n",
            "Requirement already satisfied: Flask in /usr/local/lib/python3.7/dist-packages (from flask-wtf) (1.1.4)\n",
            "Collecting WTForms\n",
            "  Downloading WTForms-3.0.1-py3-none-any.whl (136 kB)\n",
            "\u001b[K     |████████████████████████████████| 136 kB 3.1 MB/s \n",
            "\u001b[?25hRequirement already satisfied: itsdangerous in /usr/local/lib/python3.7/dist-packages (from flask-wtf) (1.1.0)\n",
            "Requirement already satisfied: Werkzeug<2.0,>=0.15 in /usr/local/lib/python3.7/dist-packages (from Flask->flask-wtf) (1.0.1)\n",
            "Requirement already satisfied: click<8.0,>=5.1 in /usr/local/lib/python3.7/dist-packages (from Flask->flask-wtf) (7.1.2)\n",
            "Requirement already satisfied: Jinja2<3.0,>=2.10.1 in /usr/local/lib/python3.7/dist-packages (from Flask->flask-wtf) (2.11.3)\n",
            "Requirement already satisfied: MarkupSafe>=0.23 in /usr/local/lib/python3.7/dist-packages (from Jinja2<3.0,>=2.10.1->Flask->flask-wtf) (2.0.1)\n",
            "Installing collected packages: WTForms, flask-wtf\n",
            "Successfully installed WTForms-3.0.1 flask-wtf-1.0.0\n",
            "Authtoken saved to configuration file: /root/.ngrok2/ngrok.yml\n"
          ]
        }
      ],
      "source": [
        "!pip install flask-ngrok\n",
        "!pip install pyngrok\n",
        "!pip install flask-wtf\n",
        "\n",
        "!ngrok authtoken \"26Eh6XlEQhC4IiVYh2MAZ1SmGsj_7F7QsaZyahp2krXiXnv6i\""
      ]
    },
    {
      "cell_type": "code",
      "source": [
        "!git clone \"https://github.com/zeyicheng04/templates\""
      ],
      "metadata": {
        "colab": {
          "base_uri": "https://localhost:8080/"
        },
        "id": "veVaXmM-hHMS",
        "outputId": "e9bff56a-4f64-4faa-ae6d-7d36057d81ba"
      },
      "execution_count": 2,
      "outputs": [
        {
          "output_type": "stream",
          "name": "stdout",
          "text": [
            "Cloning into 'templates'...\n",
            "remote: Enumerating objects: 24, done.\u001b[K\n",
            "remote: Counting objects: 100% (24/24), done.\u001b[K\n",
            "remote: Compressing objects: 100% (18/18), done.\u001b[K\n",
            "remote: Total 24 (delta 6), reused 24 (delta 6), pack-reused 0\u001b[K\n",
            "Unpacking objects: 100% (24/24), done.\n"
          ]
        }
      ]
    },
    {
      "cell_type": "code",
      "source": [
        "import os\n",
        "os.chdir(\"/content/templates\")"
      ],
      "metadata": {
        "id": "r9-T6WSmij6B"
      },
      "execution_count": 3,
      "outputs": []
    },
    {
      "cell_type": "code",
      "source": [
        "from flask import *\n",
        "from flask_ngrok import run_with_ngrok\n",
        "\n",
        "app = Flask(__name__)\n",
        "\n",
        "app_data = {\n",
        "    \"name\":         \"Peter's Starter Template for a Flask Web App\",\n",
        "    \"description\":  \"A basic Flask app using bootstrap for layout\",\n",
        "    \"author\":       \"Peter Simeth\",\n",
        "    \"html_title\":   \"Peter's Starter Template for a Flask Web App\",\n",
        "    \"project_name\": \"Starter Template\",\n",
        "    \"keywords\":     \"flask, webapp, template, basic\"\n",
        "}\n",
        "\n",
        "\n",
        "@app.route('/')\n",
        "def index():\n",
        "    return render_template('index.html', app_data=app_data)\n",
        "\n",
        "run_with_ngrok(app)\n",
        "app.run()"
      ],
      "metadata": {
        "colab": {
          "base_uri": "https://localhost:8080/"
        },
        "id": "Es1N1Q0ihJph",
        "outputId": "1fe2faa3-6f08-4761-ae2b-8b43c9870e6f"
      },
      "execution_count": null,
      "outputs": [
        {
          "output_type": "stream",
          "name": "stdout",
          "text": [
            " * Serving Flask app \"__main__\" (lazy loading)\n",
            " * Environment: production\n",
            "\u001b[31m   WARNING: This is a development server. Do not use it in a production deployment.\u001b[0m\n",
            "\u001b[2m   Use a production WSGI server instead.\u001b[0m\n",
            " * Debug mode: off\n"
          ]
        },
        {
          "output_type": "stream",
          "name": "stderr",
          "text": [
            " * Running on http://127.0.0.1:5000/ (Press CTRL+C to quit)\n",
            "Exception in thread _colab_inspector_thread:\n",
            "Traceback (most recent call last):\n",
            "  File \"/usr/lib/python3.7/threading.py\", line 926, in _bootstrap_inner\n",
            "    self.run()\n",
            "  File \"/usr/lib/python3.7/threading.py\", line 870, in run\n",
            "    self._target(*self._args, **self._kwargs)\n",
            "  File \"/usr/local/lib/python3.7/dist-packages/google/colab/_debugpy.py\", line 64, in inspector_thread\n",
            "    _variable_inspector.run(shell, time)\n",
            "  File \"/usr/local/lib/python3.7/dist-packages/google/colab/_variable_inspector.py\", line 27, in run\n",
            "    globals().clear()\n",
            "TypeError: 'module' object is not callable\n",
            "\n"
          ]
        },
        {
          "output_type": "stream",
          "name": "stdout",
          "text": [
            " * Running on http://7f62-35-196-119-233.ngrok.io\n",
            " * Traffic stats available on http://127.0.0.1:4040\n"
          ]
        },
        {
          "output_type": "stream",
          "name": "stderr",
          "text": [
            "127.0.0.1 - - [11/Mar/2022 10:34:48] \"\u001b[37mGET / HTTP/1.1\u001b[0m\" 200 -\n",
            "127.0.0.1 - - [11/Mar/2022 10:34:48] \"\u001b[33mGET /logo.jpeg HTTP/1.1\u001b[0m\" 404 -\n",
            "127.0.0.1 - - [11/Mar/2022 10:34:48] \"\u001b[33mGET /style.css HTTP/1.1\u001b[0m\" 404 -\n",
            "127.0.0.1 - - [11/Mar/2022 10:34:48] \"\u001b[33mGET /Alzheimer.jpeg HTTP/1.1\u001b[0m\" 404 -\n",
            "127.0.0.1 - - [11/Mar/2022 10:34:48] \"\u001b[33mGET /Autism.jpeg HTTP/1.1\u001b[0m\" 404 -\n",
            "127.0.0.1 - - [11/Mar/2022 10:34:48] \"\u001b[33mGET /smartWatch.png HTTP/1.1\u001b[0m\" 404 -\n",
            "127.0.0.1 - - [11/Mar/2022 10:34:48] \"\u001b[33mGET /Puppy.png HTTP/1.1\u001b[0m\" 404 -\n",
            "127.0.0.1 - - [11/Mar/2022 10:34:48] \"\u001b[33mGET /Kitty.png HTTP/1.1\u001b[0m\" 404 -\n",
            "127.0.0.1 - - [11/Mar/2022 10:34:48] \"\u001b[33mGET /Quan.jpeg HTTP/1.1\u001b[0m\" 404 -\n",
            "127.0.0.1 - - [11/Mar/2022 10:34:48] \"\u001b[33mGET /zoey.jpeg HTTP/1.1\u001b[0m\" 404 -\n",
            "127.0.0.1 - - [11/Mar/2022 10:34:48] \"\u001b[33mGET /Kirin.jpeg HTTP/1.1\u001b[0m\" 404 -\n",
            "127.0.0.1 - - [11/Mar/2022 10:34:48] \"\u001b[33mGET /logo.jpeg HTTP/1.1\u001b[0m\" 404 -\n",
            "127.0.0.1 - - [11/Mar/2022 10:34:49] \"\u001b[37mGET / HTTP/1.1\u001b[0m\" 200 -\n",
            "127.0.0.1 - - [11/Mar/2022 10:34:50] \"\u001b[33mGET /Alzheimer.jpeg HTTP/1.1\u001b[0m\" 404 -\n",
            "127.0.0.1 - - [11/Mar/2022 10:34:50] \"\u001b[33mGET /logo.jpeg HTTP/1.1\u001b[0m\" 404 -\n",
            "127.0.0.1 - - [11/Mar/2022 10:34:50] \"\u001b[33mGET /Autism.jpeg HTTP/1.1\u001b[0m\" 404 -\n",
            "127.0.0.1 - - [11/Mar/2022 10:34:50] \"\u001b[33mGET /smartWatch.png HTTP/1.1\u001b[0m\" 404 -\n",
            "127.0.0.1 - - [11/Mar/2022 10:34:50] \"\u001b[33mGET /style.css HTTP/1.1\u001b[0m\" 404 -\n",
            "127.0.0.1 - - [11/Mar/2022 10:34:50] \"\u001b[33mGET /Puppy.png HTTP/1.1\u001b[0m\" 404 -\n",
            "127.0.0.1 - - [11/Mar/2022 10:34:50] \"\u001b[33mGET /Kirin.jpeg HTTP/1.1\u001b[0m\" 404 -\n",
            "127.0.0.1 - - [11/Mar/2022 10:34:50] \"\u001b[33mGET /Kitty.png HTTP/1.1\u001b[0m\" 404 -\n",
            "127.0.0.1 - - [11/Mar/2022 10:34:50] \"\u001b[33mGET /zoey.jpeg HTTP/1.1\u001b[0m\" 404 -\n",
            "127.0.0.1 - - [11/Mar/2022 10:34:50] \"\u001b[33mGET /Quan.jpeg HTTP/1.1\u001b[0m\" 404 -\n"
          ]
        }
      ]
    }
  ]
}