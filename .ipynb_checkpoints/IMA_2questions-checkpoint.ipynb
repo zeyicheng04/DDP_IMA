{
 "cells": [
  {
   "cell_type": "code",
   "execution_count": 8,
   "id": "72543816-8fa3-43ab-aefe-eb9f86427bb2",
   "metadata": {},
   "outputs": [],
   "source": [
    "char_to_dots = {\n",
    "  'A': '.-', 'B': '-...', 'C': '-.-.', 'D': '-..', 'E': '.', 'F': '..-.',\n",
    "  'G': '--.', 'H': '....', 'I': '..', 'J': '.---', 'K': '-.-', 'L': '.-..',\n",
    "  'M': '--', 'N': '-.', 'O': '---', 'P': '.--.', 'Q': '--.-', 'R': '.-.',\n",
    "  'S': '...', 'T': '-', 'U': '..-', 'V': '...-', 'W': '.--', 'X': '-..-',\n",
    "  'Y': '-.--', 'Z': '--..', ' ': ' ', '0': '-----',\n",
    "  '1': '.----', '2': '..---', '3': '...--', '4': '....-', '5': '.....',\n",
    "  '6': '-....', '7': '--...', '8': '---..', '9': '----.',\n",
    "  '&': '.-...', \"'\": '.----.', '@': '.--.-.', ')': '-.--.-', '(': '-.--.',\n",
    "  ':': '---...', ',': '--..--', '=': '-...-', '!': '-.-.--', '.': '.-.-.-',\n",
    "  '-': '-....-', '+': '.-.-.', '\"': '.-..-.', '?': '..--..', '/': '-..-.'\n",
    "}\n",
    "\n",
    "def morse_code(message):\n",
    "  nl = []\n",
    "  global char_to_dots\n",
    "  char_to_dots = {k.lower(): v for k, v in char_to_dots.items()}\n",
    "\n",
    "  for w in message.lower():\n",
    "    for c in w:\n",
    "      if c in char_to_dots:\n",
    "        nl.append(char_to_dots[c])\n",
    "  return ' '.join(nl)"
   ]
  },
  {
   "cell_type": "code",
   "execution_count": 9,
   "id": "a4b7380a-efcd-4a65-bcae-6389672026a0",
   "metadata": {},
   "outputs": [
    {
     "data": {
      "text/plain": [
       "'.... . .-.. .-.. ---   .-- --- .-. .-.. -..'"
      ]
     },
     "execution_count": 9,
     "metadata": {},
     "output_type": "execute_result"
    }
   ],
   "source": [
    "morse_code(\"Hello World\")"
   ]
  },
  {
   "cell_type": "code",
   "execution_count": 10,
   "id": "bbcac85b-f7f3-420b-be64-e66454400ed4",
   "metadata": {},
   "outputs": [],
   "source": [
    "def unique_letters(sentence):\n",
    "    sentence_upper = sentence.upper()\n",
    "    sentence_upper_list = list(sentence_upper)\n",
    "    sentence_upper_set = list(set(sentence_upper_list))\n",
    "    sentence_upper_set.sort(key = sentence_upper.index)\n",
    "    for letter in sentence_upper_set.copy():\n",
    "        if not letter.isalpha():\n",
    "            sentence_upper_set.remove(letter)\n",
    "    count = len(sentence_upper_set)\n",
    "\n",
    "    tuple = (sentence_upper_set,count)\n",
    "    print(tuple)"
   ]
  },
  {
   "cell_type": "code",
   "execution_count": 11,
   "id": "9385a8b4-7d69-4f9d-87d3-082dccf01b08",
   "metadata": {},
   "outputs": [
    {
     "name": "stdout",
     "output_type": "stream",
     "text": [
      "(['H', 'E', 'L', 'O', 'W', 'R', 'D'], 7)\n"
     ]
    }
   ],
   "source": [
    "unique_letters(\"Hello World\")"
   ]
  },
  {
   "cell_type": "code",
   "execution_count": null,
   "id": "d6469c23-3c73-437e-99a3-2bac444de4f1",
   "metadata": {},
   "outputs": [],
   "source": []
  }
 ],
 "metadata": {
  "kernelspec": {
   "display_name": "Python 3",
   "language": "python",
   "name": "python3"
  },
  "language_info": {
   "codemirror_mode": {
    "name": "ipython",
    "version": 3
   },
   "file_extension": ".py",
   "mimetype": "text/x-python",
   "name": "python",
   "nbconvert_exporter": "python",
   "pygments_lexer": "ipython3",
   "version": "3.8.8"
  }
 },
 "nbformat": 4,
 "nbformat_minor": 5
}
